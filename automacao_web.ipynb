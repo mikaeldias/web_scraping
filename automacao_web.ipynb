{
 "cells": [
  {
   "cell_type": "markdown",
   "metadata": {},
   "source": [
    "Inicialização do navegador"
   ]
  },
  {
   "cell_type": "code",
   "execution_count": 1,
   "metadata": {},
   "outputs": [],
   "source": [
    "# criando navegador\n",
    "from selenium import webdriver\n",
    "from selenium.webdriver.chrome.service import Service\n",
    "from selenium.webdriver.common.keys import Keys\n",
    "from webdriver_manager.chrome import ChromeDriverManager\n",
    "from selenium.webdriver.common.by import By\n",
    "import pandas as pd\n",
    "\n",
    "servico = Service(ChromeDriverManager().install())\n",
    "driver = webdriver.Chrome(service=servico)"
   ]
  },
  {
   "cell_type": "markdown",
   "metadata": {},
   "source": [
    "importando a base de dados"
   ]
  },
  {
   "cell_type": "code",
   "execution_count": 2,
   "metadata": {},
   "outputs": [],
   "source": [
    "# importando base de dados(produtos a pesquisar)\n",
    "tabela = pd.read_excel('buscas.xlsx')\n"
   ]
  },
  {
   "cell_type": "markdown",
   "metadata": {},
   "source": [
    "Deifinição das funções de busca do google shopping e do buscape"
   ]
  },
  {
   "cell_type": "code",
   "execution_count": 3,
   "metadata": {},
   "outputs": [],
   "source": [
    "import time\n",
    "def verifica_se_tem_termos_banidos(lista_termos_banidos, nome ):\n",
    "    tem_temos_banidos = False\n",
    "    for palavra in lista_termos_banidos:\n",
    "        if palavra in nome:\n",
    "            tem_temos_banidos = True\n",
    "    return tem_temos_banidos\n",
    "\n",
    "def verifica_se_tem_todos_termos_produtos(lista_produtos, nome):\n",
    "    tem_todos_termos_produto = True\n",
    "    for palavra in lista_produtos:\n",
    "        if palavra not in lista_produtos:\n",
    "            tem_todos_termos_produto = False\n",
    "    return  tem_todos_termos_produto\n",
    "\n",
    "\n",
    "\n",
    "def buscar_google_shopping(driver, produto, termos_banidos, preco_minimo, preco_maximo): # parametros\n",
    "    produto = produto.lower()\n",
    "    lista_produtos = produto.split(' ')\n",
    "    termos_banidos = termos_banidos.lower()\n",
    "    lista_termos_banidos = termos_banidos.split(' ')\n",
    "    preco_minimo = float(preco_minimo)\n",
    "    preco_maximo = float(preco_maximo)\n",
    "\n",
    "    lista_ofertas = []\n",
    "    # Entra no google\n",
    "    driver.get('https://www.google.com/')\n",
    "    driver.find_element(By.XPATH, '//*[@id=\"APjFqb\"]').send_keys(produto, Keys.ENTER) # modulo keys para usar uma tecla\n",
    "    #entrando na aba shopping\n",
    "    driver.find_element(By.XPATH, '//*[@id=\"hdtb-sc\"]/div/div/div[1]/div/div[2]/a/div').click()\n",
    "\n",
    "    # pegando um elemento(valor, texto, produto)\n",
    "    lista_resultados = driver.find_elements('class name', 'i0X6df')\n",
    "\n",
    "    for resultado in lista_resultados:\n",
    "        nome = resultado.find_element('class name', 'tAxDx').text\n",
    "        nome = nome.lower()\n",
    "        # analisando se tem termo banido\n",
    "        tem_termos_banidos = verifica_se_tem_termos_banidos(lista_termos_banidos, nome)\n",
    "        # analisando se tem todos os elementos do produto        \n",
    "        tem_todos_termos_produto = verifica_se_tem_todos_termos_produtos(lista_produtos, nome)\n",
    "        # selecionar só os elementos que tem_termos_banidos = False e os msm tempo, tem_todos_termos_produtos = True       \n",
    "        if tem_termos_banidos == False and tem_todos_termos_produto == True:\n",
    "            preco = resultado.find_element('class name', 'a8Pemb').text # não estamos pesquisando no navegador inteiro, por isso, estamos procurando o item na variavel resultado, que vai iterar os valores da variavel lista_resultados\n",
    "            preco = preco.replace('R$', '').replace(' ', '').replace('.', '').replace(',', '.').replace('+impostos', '')\n",
    "            \n",
    "            preco = float(preco)\n",
    "            # se o preço ta entre o preço minimo e preeço maxx\n",
    "            if preco_minimo <= preco <= preco_maximo:\n",
    "                elemento_referencia = resultado.find_element('class name', 'bONr3b') # elemento filho(referencia)\n",
    "                elemento_pai = elemento_referencia.find_element('xpath', '..') # pegando o elemento pai, acima do elemento filho\n",
    "                link = elemento_pai.get_attribute('href') # atravez do elemento pai, pegamos o seu HREF\n",
    "                lista_ofertas.append(( nome, preco, link))\n",
    "    return lista_ofertas     \n",
    "\n",
    "\n",
    "def busca_buscape(driver, produto, termos_banidos, preco_minimo, preco_maximo):\n",
    "    #tratar os valores\n",
    "    produto = produto.lower()\n",
    "    lista_produtos = produto.split(' ')\n",
    "    termos_banidos = termos_banidos.lower()\n",
    "    lista_termos_banidos = termos_banidos.split(' ')\n",
    "    lista_ofertas = []\n",
    "    #buscar no buscape\n",
    "    driver.get('https://www.buscape.com.br/')\n",
    "    driver.find_element('xpath', '//*[@id=\"new-header\"]/div[1]/div/div/div[3]/div/div/div[2]/div/div[1]/input').send_keys(produto, Keys.ENTER)\n",
    "    #analisar se o resultado tem o termo banido e tem todos os termos do produto\n",
    "    time.sleep(5)\n",
    "    lista_resultados = driver.find_elements('class name', 'ProductCard_ProductCard_Inner__gapsh')\n",
    "    for resultado in lista_resultados:\n",
    "        nome = resultado.find_element('class name', 'ProductCard_ProductCard_Name__U_mUQ').text\n",
    "        nome.lower()\n",
    "        # analisando se tem termo banido\n",
    "        tem_termos_banidos = verifica_se_tem_termos_banidos(lista_termos_banidos, nome)\n",
    "        # analisando se tem todos os elementos do produto        \n",
    "        tem_todos_termos_produto = verifica_se_tem_todos_termos_produtos(lista_produtos, nome)\n",
    "        # caso o item, esteja de acordo com a condição, o preco é tratado\n",
    "        if tem_termos_banidos == False and tem_todos_termos_produto == True:\n",
    "            preco = resultado.find_element('class name', 'Text_MobileHeadingS__HEz7L').text\n",
    "            preco = preco.replace('R$', '').replace(' ', '').replace('.', '').replace(',', '.')\n",
    "            preco = float(preco)\n",
    "            #verificando se o valor do prod está entre os valores informados \n",
    "            if preco_minimo <= preco <= preco_maximo:\n",
    "                link = resultado.get_attribute('href')\n",
    "                lista_ofertas.append((nome, preco, link ))\n",
    "    return lista_ofertas\n",
    "\n",
    "    # analisar se o valor está entro o min e o maxx\n",
    "    #retornas a lista\n",
    "\n"
   ]
  },
  {
   "cell_type": "markdown",
   "metadata": {},
   "source": [
    "Construindo a lista de ofertas"
   ]
  },
  {
   "cell_type": "code",
   "execution_count": 4,
   "metadata": {},
   "outputs": [
    {
     "name": "stdout",
     "output_type": "stream",
     "text": [
      "                                              produto    preco  \\\n",
      "0                              storytelling com dados    73.12   \n",
      "1   storytelling com dados: um guia sobre visualiz...    67.00   \n",
      "2   storytelling com dados - edição colorida + mar...    68.65   \n",
      "3            storytelling com dados - vamos praticar!    56.20   \n",
      "4   storytelling: aprenda a contar histórias com s...    56.05   \n",
      "..                                                ...      ...   \n",
      "6              iphone 14 plus 128gb product (red) bom  3730.65   \n",
      "7                          apple iphone 14 azul 128gb  3674.46   \n",
      "8   apple iphone 14 pro max - 128gb 256gb 512gb 1t...  3565.60   \n",
      "0   Smartphone Apple iPhone 14 Usado 256GB Câmera ...  3527.92   \n",
      "1   Smartphone Apple iPhone 14 Usado 128GB Câmera ...  3619.00   \n",
      "\n",
      "                                            link loja  \n",
      "0   https://www.google.com/url?url=https://www.ama...  \n",
      "1   https://www.google.com/url?url=https://dragons...  \n",
      "2   https://www.google.com/url?url=https://www.ame...  \n",
      "3   https://www.google.com/url?url=http://www.livr...  \n",
      "4   https://www.google.com/url?url=https://www.mer...  \n",
      "..                                                ...  \n",
      "6   https://www.google.com/url?url=https://www.tro...  \n",
      "7   https://www.google.com/url?url=https://doji.co...  \n",
      "8   https://www.google.com/url?url=https://www.eba...  \n",
      "0   https://www.buscape.com.br/celular/smartphone-...  \n",
      "1   https://www.buscape.com.br/celular/smartphone-...  \n",
      "\n",
      "[68 rows x 3 columns]\n"
     ]
    }
   ],
   "source": [
    "\n",
    "tabela_ofertas = pd.DataFrame()\n",
    "\n",
    "\n",
    "\n",
    "for linha in tabela.index:\n",
    "    produto = tabela.loc[linha, 'Nome']\n",
    "    termos_banidos = tabela.loc[linha, 'Termos banidos']\n",
    "    preco_minimo = tabela.loc[linha, 'Preço mínimo']\n",
    "    preco_maximo = tabela.loc[linha, 'Preço máximo']\n",
    "    preco_minimo = float(preco_minimo)\n",
    "    preco_maximo = float(preco_maximo)\n",
    "\n",
    "    lista_ofertas_google_shooping = buscar_google_shopping(driver, produto, termos_banidos, preco_minimo, preco_maximo)\n",
    "    #verifica se a lista esté vazia\n",
    "    if lista_ofertas_google_shooping:\n",
    "        tabela_google_shopping = pd.DataFrame(lista_ofertas_google_shooping, columns=['produto', 'preco', 'link loja'])\n",
    "        tabela_ofertas = pd.concat([tabela_ofertas, tabela_google_shopping]) # concatenando a tabela(pd.concat)\n",
    "    else: \n",
    "        tabela_google_shopping = None\n",
    "\n",
    "    lista_ofertas_buscape = busca_buscape(driver, produto, termos_banidos, preco_minimo, preco_maximo)\n",
    "    if lista_ofertas_buscape:\n",
    "        tabela_buscape = pd.DataFrame(lista_ofertas_buscape, columns=['produto', 'preco', 'link loja'])\n",
    "        tabela_ofertas = pd.concat([tabela_ofertas, tabela_buscape]) # concatenando a tabela(pd.concat)\n",
    "    else: \n",
    "        tabela_buscape = None\n",
    "\n",
    "print(tabela_ofertas)"
   ]
  },
  {
   "cell_type": "markdown",
   "metadata": {},
   "source": [
    "exportando para excel"
   ]
  },
  {
   "cell_type": "code",
   "execution_count": 5,
   "metadata": {},
   "outputs": [],
   "source": [
    "# exportar para excel\n",
    "tabela_ofertas.to_excel('Ofertas..xlsx', index=False)\n"
   ]
  },
  {
   "cell_type": "markdown",
   "metadata": {},
   "source": [
    "Enviando o email"
   ]
  },
  {
   "cell_type": "code",
   "execution_count": 101,
   "metadata": {},
   "outputs": [],
   "source": [
    "# enviando email\n",
    "import win32com.client as win32\n",
    "#verificando se existe alguma oferta dentro da tabela de ofertas\n",
    "if len(tabela_ofertas.index) > 0:\n",
    "    # vou enviar email\n",
    "    outlook = win32.Dispatch('outlook.application')\n",
    "    mail = outlook.CreateItem(0)\n",
    "    mail.To = 'victorgabrieltrabalhos@gmail.com'\n",
    "    mail.Subject = 'Produto(s) Encontrado(s) na faixa de preço desejada'\n",
    "    mail.HTMLBody = f\"\"\"\n",
    "    <p>Prezado, Victor</p>\n",
    "    <p>Encontrei alguns produtos em oferta dentro da faixa de preço desejada. Segue tabela com detalhes</p>\n",
    "    {tabela_ofertas.to_html(index=False)}\n",
    "    <p>Qualquer dúvida estou à disposição</p>\n",
    "    <p>Att.,\n",
    "    Mikael</p>\n",
    "    \"\"\"\n",
    "    \n",
    "    mail.Send()"
   ]
  }
 ],
 "metadata": {
  "kernelspec": {
   "display_name": "Python 3",
   "language": "python",
   "name": "python3"
  },
  "language_info": {
   "codemirror_mode": {
    "name": "ipython",
    "version": 3
   },
   "file_extension": ".py",
   "mimetype": "text/x-python",
   "name": "python",
   "nbconvert_exporter": "python",
   "pygments_lexer": "ipython3",
   "version": "3.12.1"
  }
 },
 "nbformat": 4,
 "nbformat_minor": 2
}
